{
 "cells": [
  {
   "cell_type": "markdown",
   "id": "4d7f588a-2954-498d-a5bd-f4ddfc682093",
   "metadata": {},
   "source": [
    "<span style= \"color: blue\">\n",
    "\n",
    "## **_Part II: Predict past_due loans using application_train dataset_**"
   ]
  },
  {
   "cell_type": "markdown",
   "id": "74cc79c9-c13f-4b04-83ff-ffea9379fcc2",
   "metadata": {},
   "source": [
    "<span style=\"color:blue\">\n",
    "\n",
    "**_Overall objective_**:</span> To predict loans at risk of becoming past due or defaulting using Home Credit Group Kaggle dataset\n",
    "\n",
    "<span style=\"color:blue\">\n",
    "    \n",
    "**_Objectives for Notebook 02_**:</span>\n",
    "* Model and compare groups of features from main dataset that were defined in Notebook 01\n",
    "* Identify best model to move forward to Notebook 03, which focuses on creating features from other datasets to improve prediction"
   ]
  },
  {
   "cell_type": "markdown",
   "id": "42b3816f-ce35-4d92-938f-b29f76a10114",
   "metadata": {},
   "source": [
    "<span style=\"color:blue\">\n",
    "    \n",
    "**_Summary of models attempted:_**</span> \n",
    "\n",
    "|Model features | Dataset |# of features|AUC_ROC|\n",
    "|:----|:----:|:----:|:----:|\n",
    "|(a) All features | _application_train_ | 128 | .7487 |\n",
    "|(b) Features (a) without SmartCorrelatedSelection-selected multicollinear features with Kendall corr coef > .90 | _application_train_ | 77 | .7420 |\n",
    "|(c) Features (b) with phik corr coef with target > .25) | _application_train_ | 10 | .7181 |\n",
    "|(d) Features (a) without a SUBSET of highly correlated features (those that refer to measurements of applicant residence) | _application_train_ | 106 | .7404 |\n",
    "\n",
    "**Best model**: Model (b) was selected as the best model to move forward in the analysis, because even though it performs marginally worse than Model (a), it has substantially fewer features.\n",
    "\n",
    "**Next step**: Create features from other tables and add to Model (b) to improve performance (see Notebook 03)"
   ]
  },
  {
   "cell_type": "code",
   "execution_count": 1,
   "id": "efcbc432-ee64-4b7f-8790-d02fb5779085",
   "metadata": {},
   "outputs": [
    {
     "name": "stdout",
     "output_type": "stream",
     "text": [
      "End of utils module\n",
      "C:\\Users\\yashi\\Dropbox\\00 Turing Projects\\_Turing repo clone\\yaslin-ML.4.1\n"
     ]
    }
   ],
   "source": [
    "from utils.libraries02_03 import *\n",
    "\n",
    "from utils.functions import (\n",
    "    process_dataset,\n",
    "    create_preprocessing_pipeline,\n",
    "    downsize_dtypes,\n",
    "    ClampOutliersTransformer\n",
    ")\n",
    "\n",
    "current_dir = os.getcwd()\n",
    "print(current_dir)"
   ]
  },
  {
   "cell_type": "code",
   "execution_count": 2,
   "id": "299ae7e4-8c89-4e59-bbb7-09d102a8b74b",
   "metadata": {},
   "outputs": [
    {
     "data": {
      "text/html": [
       "\n",
       "                <script type=\"application/javascript\" id=\"jupyter_black\">\n",
       "                (function() {\n",
       "                    if (window.IPython === undefined) {\n",
       "                        return\n",
       "                    }\n",
       "                    var msg = \"WARNING: it looks like you might have loaded \" +\n",
       "                        \"jupyter_black in a non-lab notebook with \" +\n",
       "                        \"`is_lab=True`. Please double check, and if \" +\n",
       "                        \"loading with `%load_ext` please review the README!\"\n",
       "                    console.log(msg)\n",
       "                    alert(msg)\n",
       "                })()\n",
       "                </script>\n",
       "                "
      ],
      "text/plain": [
       "<IPython.core.display.HTML object>"
      ]
     },
     "metadata": {},
     "output_type": "display_data"
    }
   ],
   "source": [
    "# Format settings\n",
    "# %load_ext jupyter_black\n",
    "# %load_ext autoreload\n",
    "%reload_ext jupyter_black\n",
    "pd.options.display.float_format = \"{:,.2f}\".format\n",
    "\n",
    "set_config(transform_output=\"pandas\")\n",
    "pd.reset_option(\"display.max_columns\")"
   ]
  },
  {
   "cell_type": "code",
   "execution_count": 3,
   "id": "bcccfbca-1378-4ec6-915a-75d8ab6088c7",
   "metadata": {},
   "outputs": [
    {
     "data": {
      "text/plain": [
       "((184506, 128), (61502, 128), (61503, 128))"
      ]
     },
     "execution_count": 3,
     "metadata": {},
     "output_type": "execute_result"
    }
   ],
   "source": [
    "train = joblib.load(\"data/train.joblib\")\n",
    "val = joblib.load(\"data/val.joblib\")\n",
    "test = joblib.load(\"data/test.joblib\")\n",
    "train.shape, val.shape, test.shape"
   ]
  },
  {
   "cell_type": "markdown",
   "id": "1c1b60e9-7757-468f-8bf0-18fd3d4dc588",
   "metadata": {},
   "source": [
    "<span style= \"color: blue\"> \n",
    "\n",
    "### **_2.1 Define feature groups for modelling_**\n",
    "\n",
    "#### **_2.1.1 (a) All features_**\n",
    "\n",
    "</span>"
   ]
  },
  {
   "cell_type": "code",
   "execution_count": 4,
   "id": "0f038d80-ca12-4bc7-adb4-87e1abb0e502",
   "metadata": {},
   "outputs": [
    {
     "data": {
      "text/plain": [
       "128"
      ]
     },
     "execution_count": 4,
     "metadata": {},
     "output_type": "execute_result"
    }
   ],
   "source": [
    "features_all_lst = joblib.load(\"data/features_all_lst.joblib\")\n",
    "len(features_all_lst)"
   ]
  },
  {
   "cell_type": "markdown",
   "id": "29559986-0597-46d6-8180-433dcc93c83f",
   "metadata": {},
   "source": [
    "<span style= \"color: blue\"> \n",
    "\n",
    "### **_2.1.2 Subsets of features pruned of highly correlated features_** \n",
    "\n",
    "#### **_(b) All features without (pruned of) highly correlated multicollinear features_**</span>\n",
    "* _\"highly correlated\" defined as Kendall correlation coefficient > .90_\n",
    "* _feature selection via SmartCorrelatedSelection_ "
   ]
  },
  {
   "cell_type": "code",
   "execution_count": 5,
   "id": "4760c2a5-593a-41a8-aa20-59496d8a689a",
   "metadata": {},
   "outputs": [
    {
     "data": {
      "text/plain": [
       "78"
      ]
     },
     "execution_count": 5,
     "metadata": {},
     "output_type": "execute_result"
    }
   ],
   "source": [
    "features_smartcorr_lst = joblib.load(\"data/features_smartcorr_lst.joblib\")\n",
    "len(features_smartcorr_lst)"
   ]
  },
  {
   "cell_type": "markdown",
   "id": "a5599011-4eee-4df0-b9ca-773d23411a4b",
   "metadata": {},
   "source": [
    "<span style= \"color: blue\"> \n",
    "\n",
    "#### **_(c) Features (b) with features that are correlated with target_** </span>\n",
    "\n",
    "* _\"correlated\" defined as > .25 phik correlation coefficient_"
   ]
  },
  {
   "cell_type": "code",
   "execution_count": 6,
   "id": "9f4800d1-017e-492b-8ca9-36be0a02fa1b",
   "metadata": {},
   "outputs": [
    {
     "data": {
      "text/plain": [
       "10"
      ]
     },
     "execution_count": 6,
     "metadata": {},
     "output_type": "execute_result"
    }
   ],
   "source": [
    "features_hi_phik_lst = joblib.load(\"data/features_hi_phik_lst.joblib\")\n",
    "len(features_hi_phik_lst)"
   ]
  },
  {
   "cell_type": "markdown",
   "id": "73b73ba9-547e-492d-8db4-9c4ab577fa32",
   "metadata": {},
   "source": [
    "<span style= \"color: blue\"> \n",
    "\n",
    "#### **_(d) All features without a SUBSET of features listed below:_**</span>\n",
    "* _subset features are all members of highly correlated features representing estimated measurements of the loan applicant residence_\n",
    "* _selected features for each correlated pair achieved via SmartCorrelatedSelection_"
   ]
  },
  {
   "cell_type": "code",
   "execution_count": 7,
   "id": "894753b7-ebc3-4b77-883f-45f8d0904913",
   "metadata": {},
   "outputs": [
    {
     "data": {
      "text/plain": [
       "22"
      ]
     },
     "execution_count": 7,
     "metadata": {},
     "output_type": "execute_result"
    }
   ],
   "source": [
    "hi_corr_lst = [\n",
    "    \"basementarea_medi\",\n",
    "    \"commonarea_medi\",\n",
    "    \"floorsmax_medi\",\n",
    "    \"floorsmin_medi\",\n",
    "    \"nonlivingapartments_medi\",\n",
    "    \"years_build_mode\",\n",
    "    \"elevators_mode\",\n",
    "    \"entrances_mode\",\n",
    "    \"landarea_mode\",\n",
    "    \"livingarea_mode\",\n",
    "    \"nonlivingarea_mode\",\n",
    "    \"basementarea_avg\",\n",
    "    \"commonarea_avg\",\n",
    "    \"floorsmax_avg\",\n",
    "    \"floorsmin_avg\",\n",
    "    \"nonlivingapartments_avg\",\n",
    "    \"years_build_avg\",\n",
    "    \"elevators_avg\",\n",
    "    \"entrances_avg\",\n",
    "    \"landarea_avg\",\n",
    "    \"livingarea_avg\",\n",
    "    \"nonlivingarea_avg\",\n",
    "]\n",
    "len(hi_corr_lst)"
   ]
  },
  {
   "cell_type": "code",
   "execution_count": 8,
   "id": "c34d681c-f8ab-4f73-96d8-d6f62ba0bc58",
   "metadata": {},
   "outputs": [
    {
     "data": {
      "text/plain": [
       "106"
      ]
     },
     "execution_count": 8,
     "metadata": {},
     "output_type": "execute_result"
    }
   ],
   "source": [
    "features_smartcorr2_lst = set(features_all_lst) - set(hi_corr_lst)\n",
    "len(features_smartcorr2_lst)"
   ]
  },
  {
   "cell_type": "code",
   "execution_count": 9,
   "id": "f90cac74-9767-4a01-8471-b14fea1e86bb",
   "metadata": {},
   "outputs": [
    {
     "data": {
      "text/plain": [
       "['data/features_smartcorr2_lst.joblib']"
      ]
     },
     "execution_count": 9,
     "metadata": {},
     "output_type": "execute_result"
    }
   ],
   "source": [
    "joblib.dump(features_smartcorr2_lst, \"data/features_smartcorr2_lst.joblib\")"
   ]
  },
  {
   "cell_type": "markdown",
   "id": "97f7ff2b-0af9-408e-9800-fd06fddd7940",
   "metadata": {},
   "source": [
    "<span style= \"color: blue\">\n",
    "    \n",
    "### **_2.2 Test all features from application_train_**</span>"
   ]
  },
  {
   "cell_type": "code",
   "execution_count": 10,
   "id": "684ea164-be8b-4f1a-86f2-0c38444ee90d",
   "metadata": {},
   "outputs": [
    {
     "data": {
      "text/plain": [
       "(184506, 128)"
      ]
     },
     "execution_count": 10,
     "metadata": {},
     "output_type": "execute_result"
    }
   ],
   "source": [
    "selected_features = features_all_lst\n",
    "train.shape"
   ]
  },
  {
   "cell_type": "code",
   "execution_count": 11,
   "id": "b87ad71d-891c-4b0c-8b97-3f6c816a2654",
   "metadata": {},
   "outputs": [
    {
     "data": {
      "text/plain": [
       "(37145, 128)"
      ]
     },
     "execution_count": 11,
     "metadata": {},
     "output_type": "execute_result"
    }
   ],
   "source": [
    "X_train, y_train, X_train_num, X_train_num_lst, X_train_cat, X_train_cat_lst, train = (\n",
    "    process_dataset(train, \"target\", 4, 0.5, selected_features)\n",
    ")\n",
    "train.shape"
   ]
  },
  {
   "cell_type": "code",
   "execution_count": 12,
   "id": "204ff8fe-ff35-49d3-a0d6-2148ae50735f",
   "metadata": {},
   "outputs": [
    {
     "data": {
      "text/plain": [
       "(8028, 128)"
      ]
     },
     "execution_count": 12,
     "metadata": {},
     "output_type": "execute_result"
    }
   ],
   "source": [
    "X_val, y_val, _, _, _, _, val = process_dataset(\n",
    "    val, \"target\", 3, 0.4, selected_features\n",
    ")\n",
    "\n",
    "val.shape"
   ]
  },
  {
   "cell_type": "markdown",
   "id": "7947075d-4cc5-4568-b58c-0f310c5076bf",
   "metadata": {},
   "source": [
    "<span style= \"color: blue\">\n",
    "    \n",
    "* **_To prepare for Catboost, identify categorical features with missing data and recode as \"NaN\"_**</span>"
   ]
  },
  {
   "cell_type": "code",
   "execution_count": 13,
   "id": "4dc0c11b-8196-4b58-b621-57b98099e06e",
   "metadata": {},
   "outputs": [],
   "source": [
    "cat_idx = np.array([X_train.columns.get_loc(col) for col in X_train_cat_lst], dtype=int)\n",
    "cols_with_missing = np.array(\n",
    "    [\n",
    "        X_train.columns.get_loc(col)\n",
    "        for col in X_train.columns\n",
    "        if X_train[col].isna().any()\n",
    "    ],\n",
    "    dtype=int,\n",
    ")\n",
    "common_features_indices = np.intersect1d(cat_idx, cols_with_missing)\n",
    "cat_features_w_msg = X_train.columns[common_features_indices].tolist()"
   ]
  },
  {
   "cell_type": "code",
   "execution_count": 14,
   "id": "38bdecd5-1f39-4ff5-87be-4dbb1c170ed3",
   "metadata": {},
   "outputs": [
    {
     "data": {
      "text/plain": [
       "array([ 0,  1,  2,  3,  9, 10, 11, 12, 13, 26, 30, 38, 84, 85, 87, 88])"
      ]
     },
     "execution_count": 14,
     "metadata": {},
     "output_type": "execute_result"
    }
   ],
   "source": [
    "cat_idx"
   ]
  },
  {
   "cell_type": "code",
   "execution_count": 15,
   "id": "affe4e19-bff5-4fae-a202-b316016bba8a",
   "metadata": {},
   "outputs": [
    {
     "data": {
      "text/plain": [
       "'doc20'"
      ]
     },
     "execution_count": 15,
     "metadata": {},
     "output_type": "execute_result"
    }
   ],
   "source": [
    "X_train.columns[112]"
   ]
  },
  {
   "cell_type": "code",
   "execution_count": 16,
   "id": "dfa4d605-8c5b-49c6-b0a3-162ed96a91d7",
   "metadata": {},
   "outputs": [
    {
     "data": {
      "text/plain": [
       "array([0., 1., 2., 4., 3., 5., 6.], dtype=float32)"
      ]
     },
     "execution_count": 16,
     "metadata": {},
     "output_type": "execute_result"
    }
   ],
   "source": [
    "X_train.recent_credit_inquiries.unique()"
   ]
  },
  {
   "cell_type": "code",
   "execution_count": 17,
   "id": "36d3f0fa-8877-4214-9430-97d77605b292",
   "metadata": {},
   "outputs": [
    {
     "name": "stdout",
     "output_type": "stream",
     "text": [
      "Learning rate set to 0.048226\n",
      "0:\tlearn: 0.6686723\ttotal: 176ms\tremaining: 2m 56s\n",
      "100:\tlearn: 0.4304025\ttotal: 5.69s\tremaining: 50.6s\n",
      "200:\tlearn: 0.4173530\ttotal: 12.6s\tremaining: 50.2s\n",
      "300:\tlearn: 0.4049457\ttotal: 20.3s\tremaining: 47.2s\n",
      "400:\tlearn: 0.3935124\ttotal: 28.7s\tremaining: 42.8s\n",
      "500:\tlearn: 0.3836895\ttotal: 35.1s\tremaining: 34.9s\n",
      "600:\tlearn: 0.3739829\ttotal: 41.8s\tremaining: 27.7s\n",
      "700:\tlearn: 0.3641591\ttotal: 48.8s\tremaining: 20.8s\n",
      "800:\tlearn: 0.3554366\ttotal: 58s\tremaining: 14.4s\n",
      "900:\tlearn: 0.3471036\ttotal: 1m 6s\tremaining: 7.33s\n",
      "999:\tlearn: 0.3388756\ttotal: 1m 17s\tremaining: 0us\n"
     ]
    }
   ],
   "source": [
    "# Phind suggested; using countfreq encoder\n",
    "def create_preprocessing_pipeline(num_columns, cat_columns):\n",
    "    \"\"\"Creates a preprocessing pipeline for numerical and categorical features.\n",
    "\n",
    "    Args:\n",
    "        num_columns (list): List of numerical column names.\n",
    "        cat_columns (list): List of categorical column names.\n",
    "\n",
    "    Returns:\n",
    "        sklearn.compose.ColumnTransformer: A ColumnTransformer preprocessing pipeline.\n",
    "    \"\"\"\n",
    "    num_transform = Pipeline(\n",
    "        steps=[\n",
    "            (\"clamp_outliers\", ClampOutliersTransformer()),\n",
    "            (\"ss\", StandardScaler()),\n",
    "        ]\n",
    "    )\n",
    "\n",
    "    cat_transform = Pipeline(\n",
    "        steps=[\n",
    "            (\n",
    "                \"cf_encoder\",\n",
    "                CountFrequencyEncoder(\n",
    "                    encoding_method=\"frequency\", missing_values=\"ignore\"\n",
    "                ),\n",
    "            ),\n",
    "        ]\n",
    "    )\n",
    "\n",
    "    pp_transformer = ColumnTransformer(\n",
    "        [(\"num\", num_transform, num_columns), (\"cat\", cat_transform, cat_columns)],\n",
    "        verbose_feature_names_out=False,\n",
    "        remainder=\"drop\",\n",
    "    )\n",
    "\n",
    "    weights = compute_class_weight(\n",
    "        class_weight=\"balanced\", classes=np.unique(y_train), y=np.ravel(y_train)\n",
    "    )\n",
    "    class_weights = dict(zip(np.unique(y_train), weights))\n",
    "\n",
    "    return pp_transformer, class_weights\n",
    "\n",
    "\n",
    "# Assuming X_train_num_lst, X_train_cat_lst, y_train are defined elsewhere\n",
    "pp_transformer, class_weights = create_preprocessing_pipeline(\n",
    "    X_train_num_lst, X_train_cat_lst\n",
    ")\n",
    "\n",
    "cb_estimator = CatBoostClassifier(\n",
    "    loss_function=\"Logloss\",\n",
    "    verbose=100,\n",
    "    #    class_weights=class_weights,\n",
    "    random_seed=42,\n",
    ")\n",
    "\n",
    "cb_pipe = Pipeline(\n",
    "    [\n",
    "        (\"pp_transformer\", pp_transformer),\n",
    "        (\"cb_estimator\", cb_estimator),\n",
    "    ]\n",
    ")\n",
    "\n",
    "# Fit the pipeline\n",
    "cb_pipe.fit(X_train, y_train)\n",
    "\n",
    "# Predict\n",
    "y_pred = cb_pipe.predict(X_val)"
   ]
  },
  {
   "cell_type": "code",
   "execution_count": 18,
   "id": "2503d473-3111-43cd-bb48-136fd0d06fca",
   "metadata": {},
   "outputs": [
    {
     "name": "stdout",
     "output_type": "stream",
     "text": [
      "              precision    recall  f1-score   support\n",
      "\n",
      "         0.0       0.78      0.97      0.86      6021\n",
      "         1.0       0.64      0.18      0.28      2007\n",
      "\n",
      "    accuracy                           0.77      8028\n",
      "   macro avg       0.71      0.57      0.57      8028\n",
      "weighted avg       0.74      0.77      0.72      8028\n",
      "\n",
      "ROC-AUC Score: 0.7487\n"
     ]
    }
   ],
   "source": [
    "report = classification_report(y_val, y_pred)\n",
    "print(report)\n",
    "\n",
    "roc_auc = roc_auc_score(y_val, cb_pipe.predict_proba(X_val)[:, 1])\n",
    "print(f\"ROC-AUC Score: {roc_auc:.4f}\")"
   ]
  },
  {
   "cell_type": "markdown",
   "id": "eae2c58b-6847-4075-b7b6-e097beee5c28",
   "metadata": {},
   "source": [
    "<span style= \"color: blue\">\n",
    "    \n",
    "### **_2.3 Test features from application_train with highly correlated features removed_**\n",
    "##### **_Kendall corr coef>.90_**</span>"
   ]
  },
  {
   "cell_type": "code",
   "execution_count": 19,
   "id": "244e396b-dcb5-4f50-aae6-08cde190c185",
   "metadata": {},
   "outputs": [],
   "source": [
    "train = joblib.load(\"data/train.joblib\")\n",
    "val = joblib.load(\"data/val.joblib\")\n",
    "\n",
    "selected_features = features_smartcorr_lst"
   ]
  },
  {
   "cell_type": "code",
   "execution_count": 21,
   "id": "836d2248-2b96-463d-a404-93711e55c2d5",
   "metadata": {},
   "outputs": [
    {
     "data": {
      "text/plain": [
       "(44574, 78)"
      ]
     },
     "execution_count": 21,
     "metadata": {},
     "output_type": "execute_result"
    }
   ],
   "source": [
    "X_train, y_train, X_train_num, X_train_num_lst, X_train_cat, X_train_cat_lst, train = (\n",
    "    process_dataset(train, \"target\", 5, 0.5, selected_features)\n",
    ")\n",
    "train.shape"
   ]
  },
  {
   "cell_type": "code",
   "execution_count": 22,
   "id": "33d863c6-c81d-4911-ade4-9034052a5171",
   "metadata": {},
   "outputs": [
    {
     "data": {
      "text/plain": [
       "(15048, 78)"
      ]
     },
     "execution_count": 22,
     "metadata": {},
     "output_type": "execute_result"
    }
   ],
   "source": [
    "X_val, y_val, _, _, _, _, val = process_dataset(\n",
    "    val, \"target\", 5, 0.5, selected_features\n",
    ")\n",
    "val.shape"
   ]
  },
  {
   "cell_type": "code",
   "execution_count": 23,
   "id": "8c4e0e0d-91db-49c4-9995-43cc870127ad",
   "metadata": {},
   "outputs": [
    {
     "name": "stdout",
     "output_type": "stream",
     "text": [
      "Learning rate set to 0.05213\n",
      "0:\tlearn: 0.6867930\ttotal: 65.4ms\tremaining: 1m 5s\n",
      "100:\tlearn: 0.5876157\ttotal: 7.07s\tremaining: 1m 2s\n",
      "200:\tlearn: 0.5680880\ttotal: 12.3s\tremaining: 49.1s\n",
      "300:\tlearn: 0.5473939\ttotal: 17.6s\tremaining: 40.9s\n",
      "400:\tlearn: 0.5289600\ttotal: 22.4s\tremaining: 33.5s\n",
      "500:\tlearn: 0.5119769\ttotal: 27.4s\tremaining: 27.3s\n",
      "600:\tlearn: 0.4961056\ttotal: 33.4s\tremaining: 22.2s\n",
      "700:\tlearn: 0.4814749\ttotal: 38.6s\tremaining: 16.5s\n",
      "800:\tlearn: 0.4681776\ttotal: 43.3s\tremaining: 10.8s\n",
      "900:\tlearn: 0.4551895\ttotal: 48.6s\tremaining: 5.34s\n",
      "999:\tlearn: 0.4427432\ttotal: 54.5s\tremaining: 0us\n",
      "CPU times: total: 2min 9s\n",
      "Wall time: 56.2 s\n"
     ]
    }
   ],
   "source": [
    "%%time\n",
    "pp_transformer, class_weights = create_preprocessing_pipeline(\n",
    "    X_train_num_lst, X_train_cat_lst\n",
    ")\n",
    "\n",
    "cb_estimator = CatBoostClassifier(\n",
    "    loss_function=\"Logloss\",\n",
    "    class_weights=class_weights,\n",
    "    class_names=[0, 1],\n",
    "    verbose=100,\n",
    "    random_seed=42,\n",
    ")\n",
    "\n",
    "cb_pipe = Pipeline(\n",
    "    [\n",
    "        (\"pp_transformer\", pp_transformer),\n",
    "        (\"cb_estimator\", cb_estimator),\n",
    "    ]\n",
    ")\n",
    "cb_pipe.fit(X_train, y_train)\n",
    "y_pred = cb_pipe.predict(X_val)"
   ]
  },
  {
   "cell_type": "code",
   "execution_count": 24,
   "id": "e7cd50a5-fc60-4e66-8e77-2cf5251fc54f",
   "metadata": {},
   "outputs": [
    {
     "name": "stdout",
     "output_type": "stream",
     "text": [
      "              precision    recall  f1-score   support\n",
      "\n",
      "         0.0       0.90      0.76      0.82     12540\n",
      "         1.0       0.33      0.59      0.42      2508\n",
      "\n",
      "    accuracy                           0.73     15048\n",
      "   macro avg       0.62      0.68      0.62     15048\n",
      "weighted avg       0.81      0.73      0.76     15048\n",
      "\n",
      "ROC-AUC Score: 0.7420\n"
     ]
    }
   ],
   "source": [
    "report = classification_report(y_val, y_pred)\n",
    "print(report)\n",
    "\n",
    "roc_auc = roc_auc_score(y_val, cb_pipe.predict_proba(X_val)[:, 1])\n",
    "print(f\"ROC-AUC Score: {roc_auc:.4f}\")"
   ]
  },
  {
   "cell_type": "markdown",
   "id": "bfb3c138-48fe-4819-9ccc-38e80f535be1",
   "metadata": {},
   "source": [
    "<span style=\"color:blue\">\n",
    "\n",
    "#### **_Insights:_**</span>\n",
    "\n",
    "* As noted in the summary Model (b) was selected as the best model to move forward in the analysis. It performed nearly as well as the model (a) with all application_train features, with only a fraction of the number of features."
   ]
  },
  {
   "cell_type": "markdown",
   "id": "9cca0960-4132-4899-9961-f2b2cd95f616",
   "metadata": {},
   "source": [
    "<span style= \"color: blue\">\n",
    "    \n",
    "### **_2.4 Test features from application_train that were highly correlated with target (phik)_**</span>"
   ]
  },
  {
   "cell_type": "code",
   "execution_count": 25,
   "id": "15a7260b-80fb-4e77-a4ee-83325481064f",
   "metadata": {},
   "outputs": [],
   "source": [
    "train = joblib.load(\"data/train.joblib\")\n",
    "val = joblib.load(\"data/val.joblib\")\n",
    "\n",
    "selected_features = features_hi_phik_lst"
   ]
  },
  {
   "cell_type": "code",
   "execution_count": 26,
   "id": "bcd93652-7920-41b3-83c8-8c5045bd115e",
   "metadata": {},
   "outputs": [
    {
     "data": {
      "text/plain": [
       "(44574, 10)"
      ]
     },
     "execution_count": 26,
     "metadata": {},
     "output_type": "execute_result"
    }
   ],
   "source": [
    "X_train, y_train, X_train_num, X_train_num_lst, X_train_cat, X_train_cat_lst, train = (\n",
    "    process_dataset(train, \"target\", 5, 0.5, selected_features)\n",
    ")\n",
    "train.shape"
   ]
  },
  {
   "cell_type": "code",
   "execution_count": 27,
   "id": "67afeeb7-897c-4da9-8850-7d6d28a6a883",
   "metadata": {},
   "outputs": [
    {
     "data": {
      "text/plain": [
       "(27090, 10)"
      ]
     },
     "execution_count": 27,
     "metadata": {},
     "output_type": "execute_result"
    }
   ],
   "source": [
    "X_val, y_val, _, _, _, _, val = process_dataset(\n",
    "    val, \"target\", 5, 0.9, selected_features\n",
    ")\n",
    "val.shape"
   ]
  },
  {
   "cell_type": "code",
   "execution_count": 28,
   "id": "e9fb9829-6228-4080-9f03-2982d47d0c70",
   "metadata": {},
   "outputs": [
    {
     "name": "stdout",
     "output_type": "stream",
     "text": [
      "Learning rate set to 0.05213\n",
      "0:\tlearn: 0.6863813\ttotal: 31.9ms\tremaining: 31.8s\n",
      "100:\tlearn: 0.5996525\ttotal: 3.42s\tremaining: 30.4s\n",
      "200:\tlearn: 0.5878754\ttotal: 7.26s\tremaining: 28.9s\n",
      "300:\tlearn: 0.5762600\ttotal: 10.9s\tremaining: 25.3s\n",
      "400:\tlearn: 0.5647347\ttotal: 14.4s\tremaining: 21.5s\n",
      "500:\tlearn: 0.5540515\ttotal: 18.1s\tremaining: 18s\n",
      "600:\tlearn: 0.5442358\ttotal: 21.7s\tremaining: 14.4s\n",
      "700:\tlearn: 0.5352009\ttotal: 25.4s\tremaining: 10.8s\n",
      "800:\tlearn: 0.5268860\ttotal: 29s\tremaining: 7.19s\n",
      "900:\tlearn: 0.5186880\ttotal: 32.7s\tremaining: 3.59s\n",
      "999:\tlearn: 0.5109306\ttotal: 36.5s\tremaining: 0us\n",
      "CPU times: total: 1min 7s\n",
      "Wall time: 37.2 s\n"
     ]
    }
   ],
   "source": [
    "%%time\n",
    "pp_transformer, class_weights = create_preprocessing_pipeline(\n",
    "    X_train_num_lst, X_train_cat_lst\n",
    ")\n",
    "\n",
    "cb_estimator = CatBoostClassifier(\n",
    "    loss_function=\"Logloss\",\n",
    "    class_weights=class_weights,\n",
    "    class_names=[0, 1],\n",
    "    verbose=100,\n",
    "    random_seed=42,\n",
    ")\n",
    "\n",
    "cb_pipe = Pipeline(\n",
    "    [\n",
    "        (\"pp_transformer\", pp_transformer),\n",
    "        (\"cb_estimator\", cb_estimator),\n",
    "    ]\n",
    ")\n",
    "cb_pipe.fit(X_train, y_train)\n",
    "y_pred = cb_pipe.predict(X_val)"
   ]
  },
  {
   "cell_type": "code",
   "execution_count": 29,
   "id": "8bfda75e-c654-41dd-a34a-8846766c2e7e",
   "metadata": {},
   "outputs": [
    {
     "name": "stdout",
     "output_type": "stream",
     "text": [
      "              precision    recall  f1-score   support\n",
      "\n",
      "         0.0       0.90      0.70      0.79     22575\n",
      "         1.0       0.29      0.61      0.40      4515\n",
      "\n",
      "    accuracy                           0.69     27090\n",
      "   macro avg       0.60      0.66      0.59     27090\n",
      "weighted avg       0.80      0.69      0.72     27090\n",
      "\n",
      "ROC-AUC Score: 0.7181\n",
      "CPU times: total: 156 ms\n",
      "Wall time: 162 ms\n"
     ]
    }
   ],
   "source": [
    "%%time\n",
    "report = classification_report(y_val, y_pred)\n",
    "print(report)\n",
    "\n",
    "roc_auc = roc_auc_score(y_val, cb_pipe.predict_proba(X_val)[:, 1])\n",
    "print(f\"ROC-AUC Score: {roc_auc:.4f}\")"
   ]
  },
  {
   "cell_type": "markdown",
   "id": "6f19f582-611d-44b6-b9b5-fb966e53195d",
   "metadata": {},
   "source": [
    "<span style= \"color: blue\">\n",
    "    \n",
    "### **_2.5 Test application_train features without SUBSET of highly correlated features_**</span>"
   ]
  },
  {
   "cell_type": "code",
   "execution_count": 31,
   "id": "45da1f9d-dc3c-4eed-ba47-7b192e3e477f",
   "metadata": {},
   "outputs": [],
   "source": [
    "train = joblib.load(\"data/train.joblib\")\n",
    "val = joblib.load(\"data/val.joblib\")\n",
    "\n",
    "selected_features = features_smartcorr2_lst"
   ]
  },
  {
   "cell_type": "code",
   "execution_count": 32,
   "id": "d1c252c7-d0d7-476e-83b6-22caa31fa019",
   "metadata": {},
   "outputs": [
    {
     "data": {
      "text/plain": [
       "(44574, 106)"
      ]
     },
     "execution_count": 32,
     "metadata": {},
     "output_type": "execute_result"
    }
   ],
   "source": [
    "X_train, y_train, X_train_num, X_train_num_lst, X_train_cat, X_train_cat_lst, train = (\n",
    "    process_dataset(train, \"target\", 5, 0.5, selected_features)\n",
    ")\n",
    "train.shape"
   ]
  },
  {
   "cell_type": "code",
   "execution_count": 33,
   "id": "174880f6-cfd6-4882-8e3b-8484f147a27b",
   "metadata": {},
   "outputs": [
    {
     "data": {
      "text/plain": [
       "(27090, 106)"
      ]
     },
     "execution_count": 33,
     "metadata": {},
     "output_type": "execute_result"
    }
   ],
   "source": [
    "X_val, y_val, _, _, _, _, val = process_dataset(\n",
    "    val, \"target\", 5, 0.9, selected_features\n",
    ")\n",
    "val.shape"
   ]
  },
  {
   "cell_type": "code",
   "execution_count": 35,
   "id": "f11c1e12-73f9-4f54-888e-c0a7c64f07da",
   "metadata": {},
   "outputs": [
    {
     "name": "stdout",
     "output_type": "stream",
     "text": [
      "Learning rate set to 0.05213\n",
      "0:\tlearn: 0.6869149\ttotal: 33.3ms\tremaining: 33.3s\n",
      "100:\tlearn: 0.5829430\ttotal: 3.88s\tremaining: 34.6s\n",
      "200:\tlearn: 0.5621369\ttotal: 7.33s\tremaining: 29.1s\n",
      "300:\tlearn: 0.5407117\ttotal: 10.8s\tremaining: 25.1s\n",
      "400:\tlearn: 0.5205214\ttotal: 14.6s\tremaining: 21.8s\n",
      "500:\tlearn: 0.5026442\ttotal: 21.3s\tremaining: 21.3s\n",
      "600:\tlearn: 0.4862161\ttotal: 30.1s\tremaining: 20s\n",
      "700:\tlearn: 0.4710341\ttotal: 37s\tremaining: 15.8s\n",
      "800:\tlearn: 0.4570778\ttotal: 43.2s\tremaining: 10.7s\n",
      "900:\tlearn: 0.4436626\ttotal: 50.7s\tremaining: 5.57s\n",
      "999:\tlearn: 0.4304299\ttotal: 56.3s\tremaining: 0us\n",
      "CPU times: total: 2min 9s\n",
      "Wall time: 57.8 s\n"
     ]
    }
   ],
   "source": [
    "%%time\n",
    "pp_transformer, class_weights = create_preprocessing_pipeline(\n",
    "    X_train_num_lst, X_train_cat_lst\n",
    ")\n",
    "\n",
    "cb_estimator = CatBoostClassifier(\n",
    "    loss_function=\"Logloss\",\n",
    "    class_weights=class_weights,\n",
    "    class_names=[0, 1],\n",
    "    verbose=100,\n",
    "    random_seed=42,\n",
    ")\n",
    "\n",
    "cb_pipe = Pipeline(\n",
    "    [\n",
    "        (\"pp_transformer\", pp_transformer),\n",
    "        (\"cb_estimator\", cb_estimator),\n",
    "    ]\n",
    ")\n",
    "cb_pipe.fit(X_train, y_train)\n",
    "y_pred = cb_pipe.predict(X_val)"
   ]
  },
  {
   "cell_type": "code",
   "execution_count": 36,
   "id": "06363d92-f415-4058-b755-b172562a35f1",
   "metadata": {},
   "outputs": [
    {
     "name": "stdout",
     "output_type": "stream",
     "text": [
      "              precision    recall  f1-score   support\n",
      "\n",
      "         0.0       0.90      0.76      0.82     22575\n",
      "         1.0       0.33      0.59      0.42      4515\n",
      "\n",
      "    accuracy                           0.73     27090\n",
      "   macro avg       0.62      0.67      0.62     27090\n",
      "weighted avg       0.81      0.73      0.76     27090\n",
      "\n",
      "ROC-AUC Score: 0.7404\n",
      "CPU times: total: 344 ms\n",
      "Wall time: 589 ms\n"
     ]
    }
   ],
   "source": [
    "%%time\n",
    "report = classification_report(y_val, y_pred)\n",
    "print(report)\n",
    "\n",
    "roc_auc = roc_auc_score(y_val, cb_pipe.predict_proba(X_val)[:, 1])\n",
    "print(f\"ROC-AUC Score: {roc_auc:.4f}\")"
   ]
  }
 ],
 "metadata": {
  "kernelspec": {
   "display_name": "Python 3 (ipykernel)",
   "language": "python",
   "name": "python3"
  },
  "language_info": {
   "codemirror_mode": {
    "name": "ipython",
    "version": 3
   },
   "file_extension": ".py",
   "mimetype": "text/x-python",
   "name": "python",
   "nbconvert_exporter": "python",
   "pygments_lexer": "ipython3",
   "version": "3.9.13"
  }
 },
 "nbformat": 4,
 "nbformat_minor": 5
}
